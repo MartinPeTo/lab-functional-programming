{
 "cells": [
  {
   "cell_type": "markdown",
   "metadata": {},
   "source": [
    "In the cell below, create a Python function that wraps your previous solution for the Bag of Words lab.\n",
    "\n",
    "Requirements:\n",
    "\n",
    "1. Your function should accept the following parameters:\n",
    "    * `docs` [REQUIRED] - array of document paths.\n",
    "    * `stop_words` [OPTIONAL] - array of stop words. The default value is an empty array.\n",
    "\n",
    "1. Your function should return a Python object that contains the following:\n",
    "    * `bag_of_words` - array of strings of normalized unique words in the corpus.\n",
    "    * `term_freq` - array of the term-frequency vectors."
   ]
  },
  {
   "cell_type": "code",
   "execution_count": 14,
   "metadata": {},
   "outputs": [],
   "source": [
    "# Import required libraries\n",
    "import re\n",
    "# Define function\n",
    "def get_bow_from_docs(docs, stop_words=[]):\n",
    "    \n",
    "    # In the function, first define the variables you will use such as `corpus`, `bag_of_words`, and `term_freq`.\n",
    "    corpus = []\n",
    "    bag_of_words = []\n",
    "    term_freq = []\n",
    "        \n",
    "    \n",
    "    \"\"\"\n",
    "    Loop `docs` and read the content of each doc into a string in `corpus`.\n",
    "    Remember to convert the doc content to lowercases and remove punctuation.\n",
    "    \"\"\"\n",
    "    for doc in docs:\n",
    "        s = open(doc, 'r').read()\n",
    "        s = s.lower()\n",
    "        s = re.sub(r'[\\W+]',' ', s)\n",
    "        corpus.append(s)        \n",
    "    \n",
    "    \"\"\"\n",
    "    Loop `corpus`. Append the terms in each doc into the `bag_of_words` array. The terms in `bag_of_words` \n",
    "    should be unique which means before adding each term you need to check if it's already added to the array.\n",
    "    In addition, check if each term is in the `stop_words` array. Only append the term to `bag_of_words`\n",
    "    if it is not a stop word.\n",
    "    \"\"\"\n",
    "    each_word=[]\n",
    "    stop_words=list(stop_words)\n",
    "    for string in corpus:\n",
    "        each_word = re.findall('[a-z]+', string)\n",
    "        for word in each_word:\n",
    "            if word not in (bag_of_words + stop_words):\n",
    "                bag_of_words.append(word)\n",
    "    \n",
    "    \n",
    "    \n",
    "    \"\"\"\n",
    "    Loop `corpus` again. For each doc string, count the number of occurrences of each term in `bag_of_words`. \n",
    "    Create an array for each doc's term frequency and append it to `term_freq`.\n",
    "    \"\"\"\n",
    "    for string in corpus:\n",
    "        each_term = []\n",
    "        each_word = re.findall('[a-z]+', string)\n",
    "        for word in bag_of_words:\n",
    "            count=0\n",
    "            if word in each_word:\n",
    "                count += 1\n",
    "            each_term.append(count)\n",
    "        term_freq.append(each_term)\n",
    "    \n",
    "    # Now return your output as an object\n",
    "    return {\n",
    "        \"bag_of_words\": bag_of_words,\n",
    "        \"term_freq\": term_freq\n",
    "    }\n",
    "    "
   ]
  },
  {
   "cell_type": "markdown",
   "metadata": {},
   "source": [
    "Test your function without stop words. You should see the output like below:\n",
    "\n",
    "```{'bag_of_words': ['ironhack', 'is', 'cool', 'i', 'love', 'am', 'a', 'student', 'at'], 'term_freq': [[1, 1, 1, 0, 0, 0, 0, 0, 0], [1, 0, 0, 1, 1, 0, 0, 0, 0], [1, 0, 0, 1, 0, 1, 1, 1, 1]]}```"
   ]
  },
  {
   "cell_type": "code",
   "execution_count": 15,
   "metadata": {},
   "outputs": [
    {
     "name": "stdout",
     "output_type": "stream",
     "text": [
      "{'bag_of_words': ['ironhack', 'is', 'cool', 'i', 'love', 'am', 'a', 'student', 'at'], 'term_freq': [[1, 1, 1, 0, 0, 0, 0, 0, 0], [1, 0, 0, 1, 1, 0, 0, 0, 0], [1, 0, 0, 1, 0, 1, 1, 1, 1]]}\n"
     ]
    }
   ],
   "source": [
    "# Define doc paths array\n",
    "path = '/home/martin/Ironhack - Labs/lab-string-operations/your-code/'\n",
    "docs = [path+'doc1.txt', path+'doc2.txt', path+'doc3.txt']\n",
    "\n",
    "# Obtain BoW from your function\n",
    "bow = get_bow_from_docs(docs)\n",
    "\n",
    "# Print BoW\n",
    "print(bow)"
   ]
  },
  {
   "cell_type": "markdown",
   "metadata": {},
   "source": [
    "If your attempt above is successful, nice work done!\n",
    "\n",
    "Now test your function again with the stop words. In the previous lab we defined the stop words in a large array. In this lab, we'll import the stop words from Scikit-Learn."
   ]
  },
  {
   "cell_type": "code",
   "execution_count": 16,
   "metadata": {},
   "outputs": [
    {
     "name": "stdout",
     "output_type": "stream",
     "text": [
      "frozenset({'before', 'out', 'please', 'them', 'top', 'which', 'cannot', 'had', 'same', 'together', 'one', 'while', 'rather', 'somewhere', 'else', 'up', 'third', 'too', 'were', 'being', 'eg', 'noone', 'otherwise', 'move', 'many', 'elsewhere', 'within', 'everywhere', 'those', 'former', 'nevertheless', 'all', 'whenever', 'this', 'both', 'give', 'to', 'anything', 'a', 'call', 'between', 'on', 'twelve', 'from', 'due', 'himself', 'with', 'also', 'anyhow', 'other', 'however', 'toward', 'could', 'nor', 'became', 'un', 'do', 'because', 'thus', 'con', 'his', 'neither', 'detail', 'whereupon', 'it', 'next', 'per', 'anyway', 'enough', 'who', 'whoever', 'show', 'wherever', 'hereupon', 'any', 'my', 'mostly', 'seeming', 'some', 'in', 'we', 'as', 'never', 'side', 'be', 'four', 'front', 'i', 'sometimes', 'him', 'nothing', 'hundred', 'until', 'should', 'ltd', 'our', 'without', 'herein', 'first', 'so', 'can', 'very', 'found', 'done', 'sixty', 'no', 'thereby', 'thru', 'why', 'become', 'most', 'above', 'am', 'along', 'might', 'must', 'whole', 'name', 'when', 'thin', 'only', 'amongst', 'whereby', 'wherein', 'becomes', 'fire', 'put', 'thick', 'whither', 'de', 'something', 'couldnt', 'than', 'down', 'anywhere', 'below', 'fill', 'several', 'whose', 'would', 'ten', 'an', 'either', 'cant', 'afterwards', 'among', 'hasnt', 'bottom', 'here', 'others', 're', 'and', 'upon', 'via', 'where', 'around', 'myself', 'such', 'moreover', 'perhaps', 'you', 'her', 'often', 'hereby', 'alone', 'much', 'seems', 'twenty', 'whence', 'interest', 'throughout', 'during', 'towards', 'well', 'or', 'almost', 'none', 'sometime', 'further', 'they', 'again', 'meanwhile', 'mine', 'nobody', 'each', 'sincere', 'there', 'its', 'mill', 'own', 'seemed', 'after', 'hence', 'over', 'less', 'still', 'describe', 'will', 'formerly', 'except', 'forty', 'their', 'system', 'hereafter', 'yet', 'have', 'yourself', 'your', 'not', 'someone', 'latterly', 'off', 'more', 'even', 'for', 'least', 'nine', 'of', 'full', 'few', 'ever', 'thereafter', 'serious', 'these', 'once', 'get', 'me', 'at', 'herself', 'yours', 'but', 'hers', 'everyone', 'seem', 'behind', 'yourselves', 'though', 'been', 'last', 'see', 'find', 'etc', 'therefore', 'was', 'ie', 'namely', 'beside', 'beyond', 'empty', 'ours', 'thence', 'cry', 'go', 'is', 'amount', 'how', 'latter', 'nowhere', 'across', 'part', 'eleven', 'into', 'us', 'amoungst', 'whether', 'now', 'six', 'three', 'about', 'take', 'beforehand', 'inc', 'what', 'although', 'always', 'eight', 'she', 'if', 'onto', 'somehow', 'the', 'may', 'through', 'whatever', 'whom', 'made', 'besides', 'another', 'co', 'anyone', 'two', 'itself', 'themselves', 'back', 'ourselves', 'keep', 'fifty', 'against', 'are', 'therein', 'becoming', 'by', 'fifteen', 'since', 'bill', 'everything', 'indeed', 'thereupon', 'whereafter', 'under', 'he', 'already', 'whereas', 'has', 'then', 'every', 'five', 'that'})\n"
     ]
    }
   ],
   "source": [
    "from sklearn.feature_extraction import stop_words\n",
    "print(stop_words.ENGLISH_STOP_WORDS)"
   ]
  },
  {
   "cell_type": "markdown",
   "metadata": {},
   "source": [
    "You should have seen a large list of words that looks like:\n",
    "\n",
    "```frozenset({'across', 'mine', 'cannot', ...})```\n",
    "\n",
    "`frozenset` is a type of Python object that is immutable. In this lab you can use it just like an array without conversion."
   ]
  },
  {
   "cell_type": "markdown",
   "metadata": {},
   "source": [
    "Next, test your function with supplying `stop_words.ENGLISH_STOP_WORDS` as the second parameter."
   ]
  },
  {
   "cell_type": "code",
   "execution_count": 17,
   "metadata": {},
   "outputs": [
    {
     "name": "stdout",
     "output_type": "stream",
     "text": [
      "{'bag_of_words': ['ironhack', 'cool', 'love', 'student'], 'term_freq': [[1, 1, 0, 0], [1, 0, 1, 0], [1, 0, 0, 1]]}\n"
     ]
    }
   ],
   "source": [
    "bow = get_bow_from_docs(docs, stop_words.ENGLISH_STOP_WORDS)\n",
    "\n",
    "print(bow)"
   ]
  },
  {
   "cell_type": "markdown",
   "metadata": {},
   "source": [
    "You should have seen:\n",
    "\n",
    "```{'bag_of_words': ['ironhack', 'cool', 'love', 'student'], 'term_freq': [[1, 1, 0, 0], [1, 0, 1, 0], [1, 0, 0, 1]]}```"
   ]
  }
 ],
 "metadata": {
  "kernelspec": {
   "display_name": "Python 3",
   "language": "python",
   "name": "python3"
  },
  "language_info": {
   "codemirror_mode": {
    "name": "ipython",
    "version": 3
   },
   "file_extension": ".py",
   "mimetype": "text/x-python",
   "name": "python",
   "nbconvert_exporter": "python",
   "pygments_lexer": "ipython3",
   "version": "3.6.7"
  }
 },
 "nbformat": 4,
 "nbformat_minor": 2
}
